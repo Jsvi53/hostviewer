{
 "cells": [
  {
   "cell_type": "code",
   "execution_count": 34,
   "metadata": {},
   "outputs": [],
   "source": [
    "# -*- coding: utf-8 -*-\n",
    "import cv2\n",
    "import numpy as np\n",
    "\n",
    "# 读取图像\n",
    "img_path = r\"F:\\code\\projects\\18_hostviewer\\asset\\test.jpg\"\n",
    "img = cv2.imread(img_path)\n",
    "\n",
    "# 转换为RGB格式\n",
    "img_rgb = cv2.cvtColor(img, cv2.COLOR_BGR2RGB)\n",
    "\n",
    "# 转换为RGB565格式\n",
    "\n",
    "\n",
    "def convert_to_rgb565(img_rgb):\n",
    "    r = (img_rgb[:, :, 0] >> 3).astype(np.uint16)\n",
    "    g = (img_rgb[:, :, 1] >> 2).astype(np.uint16)\n",
    "    b = (img_rgb[:, :, 2] >> 3).astype(np.uint16)\n",
    "    rgb565 = (r << 11) | (g << 5) | b\n",
    "    return rgb565\n",
    "\n",
    "\n",
    "img_rgb565 = convert_to_rgb565(img_rgb)\n",
    "\n",
    "# 显示RGB565格式的图像\n",
    "# 由于OpenCV不支持直接显示RGB565格式的图像，我们将其转换回RGB格式以便显示\n",
    "\n",
    "\n",
    "def convert_rgb565_to_rgb(img_rgb565):\n",
    "    r = ((img_rgb565 >> 11) & 0x1F) << 3\n",
    "    g = ((img_rgb565 >> 5) & 0x3F) << 2\n",
    "    b = (img_rgb565 & 0x1F) << 3\n",
    "    img_rgb = np.stack((r, g, b), axis=-1).astype(np.uint8)\n",
    "    return img_rgb\n",
    "\n",
    "\n",
    "img_rgb_converted = convert_rgb565_to_rgb(img_rgb565)\n",
    "cv2.imshow('RGB565 Image', img_rgb_converted)\n",
    "cv2.waitKey(0)\n",
    "cv2.destroyAllWindows()"
   ]
  },
  {
   "cell_type": "code",
   "execution_count": 6,
   "metadata": {},
   "outputs": [
    {
     "name": "stdout",
     "output_type": "stream",
     "text": [
      "图像已成功转换为 RGB565 并保存为 test.bin\n"
     ]
    }
   ],
   "source": [
    "from PIL import Image\n",
    "import numpy as np\n",
    "\n",
    "# 打开图像并转换为 RGB 模式\n",
    "img = Image.open(r'F:\\code\\projects\\18_hostviewer\\asset\\test.jpg').convert('RGB')\n",
    "\n",
    "# 获取图像的宽度和高度\n",
    "width, height = img.size\n",
    "\n",
    "# 获取图像数据\n",
    "data = np.array(img)\n",
    "\n",
    "# 创建一个空的数组用于存储 RGB565 格式的数据\n",
    "rgb565 = np.zeros((height, width), dtype=np.uint16)\n",
    "\n",
    "# 遍历图像的每个像素并转换为 RGB565\n",
    "for y in range(height):\n",
    "    for x in range(width):\n",
    "        r = data[y, x, 0] >> 3  # 红色通道：高 5 位\n",
    "        g = data[y, x, 1] >> 2  # 绿色通道：高 6 位\n",
    "        b = data[y, x, 2] >> 3  # 蓝色通道：高 5 位\n",
    "\n",
    "        # 将 RGB 值打包成 RGB565 格式\n",
    "        rgb565[y, x] = (r << 11) | (g << 5) | b\n",
    "\n",
    "# 保存为 .bin 文件\n",
    "rgb565.tofile('F:\\\\code\\\\projects\\\\18_hostviewer\\\\asset\\\\test1.bin')\n",
    "\n",
    "print(\"图像已成功转换为 RGB565 并保存为 test.bin\")"
   ]
  }
 ],
 "metadata": {
  "kernelspec": {
   "display_name": "dset",
   "language": "python",
   "name": "python3"
  },
  "language_info": {
   "codemirror_mode": {
    "name": "ipython",
    "version": 3
   },
   "file_extension": ".py",
   "mimetype": "text/x-python",
   "name": "python",
   "nbconvert_exporter": "python",
   "pygments_lexer": "ipython3",
   "version": "3.8.19"
  }
 },
 "nbformat": 4,
 "nbformat_minor": 2
}
